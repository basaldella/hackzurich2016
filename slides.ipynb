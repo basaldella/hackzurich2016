{
 "cells": [
  {
   "cell_type": "markdown",
   "metadata": {
    "slideshow": {
     "slide_type": "slide"
    }
   },
   "source": [
    "<center>\n",
    "\n",
    "<h1>NorNE e-Discorvery:</h1>\n",
    "<h2>Explorations of the <strong>Enron</strong> email corpus</h2>\n",
    "\n",
    "<img src=\"https://upload.wikimedia.org/wikipedia/commons/c/ce/Kazimierz_Nowak_in_jungle_2.jpg\" style=\"height:200px;\"/>\n",
    "\n",
    "<br />\n",
    "Marco Basaldella & Peter Makarov\n",
    "\n",
    "</center>"
   ]
  },
  {
   "cell_type": "markdown",
   "metadata": {
    "slideshow": {
     "slide_type": "slide"
    }
   },
   "source": [
    "## Enron corpus\n",
    "\n",
    "<img src=\"http://media.washingtonpost.com/wp-srv/business/enron/images/enron_chart.gif\" style=\"height:200px;\" />\n",
    "\n",
    "* A classic problem in e-discovery\n",
    "* __Challenge__: Facilitate exploration of the data set $\\Rightarrow$ interesting ways of identifying fraud at Enron"
   ]
  },
  {
   "cell_type": "markdown",
   "metadata": {
    "slideshow": {
     "slide_type": "slide"
    }
   },
   "source": [
    "## Our project\n",
    "\n",
    "* **Main theme:** Expose analysis by Natural Processing tools, concretely"
   ]
  },
  {
   "cell_type": "markdown",
   "metadata": {
    "slideshow": {
     "slide_type": "fragment"
    }
   },
   "source": [
    "* Google Could API for\n",
    "    - sentiment\n",
    "    - entity detection $\\Rightarrow$ entities can be added to search\n",
    "    \n",
    "<img src=\"http://www.expertsystem.com/wp-content/uploads/2015/10/Google-CloudPlatform_VerticalLockup.png\" style=\"height:150px;\" />"
   ]
  },
  {
   "cell_type": "markdown",
   "metadata": {
    "slideshow": {
     "slide_type": "fragment"
    }
   },
   "source": [
    "* Quick spam filter with `sklearn`\n",
    "\n",
    "<img src=\"http://www.scipy-lectures.org/_images/scikit-learn-logo.png\" style=\"height:100px;\"/>"
   ]
  },
  {
   "cell_type": "markdown",
   "metadata": {
    "slideshow": {
     "slide_type": "fragment"
    }
   },
   "source": [
    "* Keywords based on tf-idf score"
   ]
  },
  {
   "cell_type": "markdown",
   "metadata": {
    "slideshow": {
     "slide_type": "subslide"
    }
   },
   "source": [
    "We have set up our own dump, in parallel to Nuix API\n",
    "* 500K email [`CALO` Enron data dataset](https://www.cs.cmu.edu/~./enron/)"
   ]
  },
  {
   "cell_type": "markdown",
   "metadata": {
    "slideshow": {
     "slide_type": "fragment"
    }
   },
   "source": [
    "For spam detection, we used [Enron spam dataset](http://www.aueb.gr/users/ion/data/enron-spam/)\n",
    "* 35K labeled emails\n",
    "\n",
    "<img src=\"https://upload.wikimedia.org/wikipedia/commons/thumb/0/09/Spam_can.png/1024px-Spam_can.png\" style=\"height:150px;\">"
   ]
  },
  {
   "cell_type": "markdown",
   "metadata": {
    "slideshow": {
     "slide_type": "slide"
    }
   },
   "source": [
    "## Interface\n",
    "\n",
    "<!--- <img src=\"https://pub.cl.uzh.ch/projects/nccr/polcon/enron_screens/start.PNG\" style=\"150px;\"/> -->\n",
    "<img src=\"img/start.PNG\" style=\"150px;\"/>"
   ]
  },
  {
   "cell_type": "markdown",
   "metadata": {
    "slideshow": {
     "slide_type": "subslide"
    }
   },
   "source": [
    "<!-- <img src=\"https://pub.cl.uzh.ch/projects/nccr/polcon/enron_screens/search.PNG\" style=\"150px;\"/> -->\n",
    "<img src=\"img/search.PNG\" style=\"150px;\"/>"
   ]
  },
  {
   "cell_type": "markdown",
   "metadata": {
    "slideshow": {
     "slide_type": "subslide"
    }
   },
   "source": [
    "<img src=\"img/results-text.PNG\" style=\"150px;\"/>"
   ]
  },
  {
   "cell_type": "markdown",
   "metadata": {
    "slideshow": {
     "slide_type": "subslide"
    }
   },
   "source": [
    "<img src=\"img/results-tfidf.PNG\" style=\"150px;\"/>"
   ]
  },
  {
   "cell_type": "markdown",
   "metadata": {
    "slideshow": {
     "slide_type": "subslide"
    }
   },
   "source": [
    "<img src=\"img/results-entities.PNG\" style=\"150px;\"/>"
   ]
  },
  {
   "cell_type": "markdown",
   "metadata": {
    "slideshow": {
     "slide_type": "subslide"
    }
   },
   "source": [
    "<img src=\"img/results-sentiment.PNG\" style=\"150px;\"/>"
   ]
  },
  {
   "cell_type": "markdown",
   "metadata": {
    "slideshow": {
     "slide_type": "slide"
    }
   },
   "source": [
    "## Code\n",
    "\n",
    "* Backend: Python, sqlite\n",
    "* ML, data mungling: Python, `sklearn`\n",
    "* Frontend: jQuery, Bootstrap, `morris.js`\n",
    "\n",
    "<img src=\"img/qr.png\" style=\"height:200px;\"/>\n",
    "\n",
    "github: https://github.com/basaldella/hackzurich2016"
   ]
  },
  {
   "cell_type": "markdown",
   "metadata": {
    "slideshow": {
     "slide_type": "slide"
    }
   },
   "source": [
    "## Takehome\n",
    "\n",
    "* Was fun to try to deploy data and set up basic analytics functionality\n",
    "    * _Big up!_ to KPMG team\n",
    "* More NLP next time"
   ]
  },
  {
   "cell_type": "markdown",
   "metadata": {
    "slideshow": {
     "slide_type": "slide"
    }
   },
   "source": [
    "<center>\n",
    "<h1>Thank you so much for your attention!</h1>\n",
    "</center>"
   ]
  }
 ],
 "metadata": {
  "celltoolbar": "Slideshow",
  "kernelspec": {
   "display_name": "Python 2",
   "language": "python",
   "name": "python2"
  },
  "language_info": {
   "codemirror_mode": {
    "name": "ipython",
    "version": 2
   },
   "file_extension": ".py",
   "mimetype": "text/x-python",
   "name": "python",
   "nbconvert_exporter": "python",
   "pygments_lexer": "ipython2",
   "version": "2.7.6"
  }
 },
 "nbformat": 4,
 "nbformat_minor": 0
}
